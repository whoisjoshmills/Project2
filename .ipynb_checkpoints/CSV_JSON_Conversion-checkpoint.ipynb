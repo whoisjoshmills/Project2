{
 "cells": [
  {
   "cell_type": "code",
   "execution_count": null,
   "id": "e4954a6f",
   "metadata": {},
   "outputs": [],
   "source": [
    "import csv\n",
    "import json"
   ]
  },
  {
   "cell_type": "code",
   "execution_count": null,
   "id": "3608c16b",
   "metadata": {},
   "outputs": [],
   "source": [
    "def make_json(csvFilePath, jsonFilePath):\n",
    "    data= {}\n",
    "    \n",
    "    with open(csvFilePath, encoding='utf-8') as csvf:\n",
    "        csvReader = csv.Dictreader(csvf)\n",
    "        \n",
    "        for rows in csvReader:\n",
    "            \n",
    "            key = rows['No']\n",
    "            data[key] = rows\n",
    "    with open(jsonFilePath, 'w', encoding='utf-8') as jsonf\n",
    "        jsonf.write(json.dumps(data, indent=4))"
   ]
  },
  {
   "cell_type": "code",
   "execution_count": null,
   "id": "7bf3296a",
   "metadata": {},
   "outputs": [],
   "source": [
    "csvFilePath = r'V2crash.csv'\n",
    "jsonFilePath = r'V2crash.json'"
   ]
  },
  {
   "cell_type": "code",
   "execution_count": null,
   "id": "f55cc11a",
   "metadata": {},
   "outputs": [],
   "source": [
    "make_json(csvFilePath, jsonFilePath)"
   ]
  },
  {
   "cell_type": "code",
   "execution_count": null,
   "id": "f9f2f299",
   "metadata": {},
   "outputs": [],
   "source": []
  },
  {
   "cell_type": "code",
   "execution_count": null,
   "id": "2ef5f3bf",
   "metadata": {},
   "outputs": [],
   "source": []
  },
  {
   "cell_type": "code",
   "execution_count": null,
   "id": "29f11a17",
   "metadata": {},
   "outputs": [],
   "source": []
  },
  {
   "cell_type": "code",
   "execution_count": null,
   "id": "2a78ab18",
   "metadata": {},
   "outputs": [],
   "source": []
  },
  {
   "cell_type": "code",
   "execution_count": null,
   "id": "3a201183",
   "metadata": {},
   "outputs": [],
   "source": []
  }
 ],
 "metadata": {
  "kernelspec": {
   "display_name": "PythonData",
   "language": "python",
   "name": "pythondata"
  },
  "language_info": {
   "codemirror_mode": {
    "name": "ipython",
    "version": 3
   },
   "file_extension": ".py",
   "mimetype": "text/x-python",
   "name": "python",
   "nbconvert_exporter": "python",
   "pygments_lexer": "ipython3",
   "version": "3.8.5"
  }
 },
 "nbformat": 4,
 "nbformat_minor": 5
}
